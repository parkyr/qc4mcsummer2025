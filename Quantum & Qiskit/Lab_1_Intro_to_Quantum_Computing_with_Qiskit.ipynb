{
  "cells": [
    {
      "cell_type": "markdown",
      "id": "7df27a1f-7b15-48e2-93c8-c9983b5e0f34",
      "metadata": {
        "id": "7df27a1f-7b15-48e2-93c8-c9983b5e0f34"
      },
      "source": [
        "# A Brief Introduction to Quantum Computing with Qiskit — Build Your First Quantum Circuit!\n",
        "\n",
        "This notebook offers a brief, clear, and concise introduction to the fundamental concepts of quantum computing and quantum mechanics. It is designed to be beginner-friendly while maintaining academic clarity, making it suitable for learners from various backgrounds.\n",
        "\n",
        "#### Key topics covered include:\n",
        "\n",
        "* What is Quantum Computing?.\n",
        "\n",
        "* Superposition and Entanglement.\n",
        "\n",
        "* Quantum Gates.\n",
        "\n",
        "* Building Your First Quantum Circuit Using Qiskit from Scratch\n",
        "\n",
        "At the end, you’ll also find a set of carefully selected resources to continue your quantum learning journey.\n",
        "\n"
      ]
    },
    {
      "cell_type": "markdown",
      "id": "6e097613-7634-4ead-947a-f649f658b2a9",
      "metadata": {
        "id": "6e097613-7634-4ead-947a-f649f658b2a9"
      },
      "source": [
        "### How to Run this Notebook\n",
        "\n",
        "You can run this notebook either **locally** (on your laptop) or using cloud-based environments such as **Google Colab**.  \n",
        "For local setup, ensure you have **Python 3.1$X$+** and Jupyter installed, then run the installation cell to set up Qiskit.  \n",
        "If you prefer running it online, simply open this notebook in **Google Colab** and execute the cells after running the Qiskit installation cell (in the *Setup the Developing Environment* chapter).\n",
        "\n",
        "## Table of Contents\n",
        "📘 Table of Contents\n",
        "\n",
        "##### Chapter 0. Setup the Developing Environment\n",
        "\n",
        "##### Chapter 1 — Brief Introduction to Quantum Computing\n",
        "Sec1.1: Classical Bits vs Quantum Bits\n",
        "\n",
        "Sec1.2: Superposition\n",
        "\n",
        "Sec1.3: Entanglement\n",
        "\n",
        "##### Chapter 2 — Quantum Gates\n",
        "Sec2.1: X Gate\n",
        "\n",
        "Sec2.2: Hadamard Gate   \n",
        "• Exercise 1: Translating the mathematical expression into a quantum circuit\n",
        "\n",
        "Sec2.3: CNOT Gate   \n",
        "• Exercise 2: Try to measure a two-qubit quantum circuit by yourself\n",
        "\n",
        "##### Chapter 3 — Building Your First Quantum Circuit\n",
        "Sec3.1: Understanding Aer Simulator\n",
        "\n",
        "Sec3.2: Building the Bell State   \n",
        "• Exercise 3: Build your first quantum circuit from scratch   \n",
        "• Simulation & Histogram Output   \n",
        "• What happened? (Result Analysis)   \n",
        "\n",
        "##### Chapter 4 — Wrapping Up\n",
        "Sec4.1: Summary of What You Learned\n",
        "\n",
        "Sec4.2: Open-Source Resources\n",
        "\n",
        "Sec4.4: References\n",
        "\n",
        "\n"
      ]
    },
    {
      "cell_type": "markdown",
      "id": "1a0667da-8b3c-4608-94ae-70d87568d32b",
      "metadata": {
        "id": "1a0667da-8b3c-4608-94ae-70d87568d32b"
      },
      "source": [
        "## Chapter 0 — Setup the Developing Environment\n",
        "Before diving into fundamental concepts of quantum computing and quantum mechanics, we will begin by setting up the development environment.\n",
        "### First we need to install the required libraries:\n",
        "**Qiskit** is an open-source framework developed by IBM for building and simulating quantum circuits."
      ]
    },
    {
      "cell_type": "code",
      "execution_count": 1,
      "id": "8cc029b0-cf93-46c0-a140-9c06f9f29658",
      "metadata": {
        "id": "8cc029b0-cf93-46c0-a140-9c06f9f29658",
        "colab": {
          "base_uri": "https://localhost:8080/"
        },
        "outputId": "aa113d9e-66c0-4061-9ed5-2a63366ac925"
      },
      "outputs": [
        {
          "output_type": "stream",
          "name": "stdout",
          "text": [
            "Collecting qiskit\n",
            "  Downloading qiskit-2.1.1-cp39-abi3-manylinux_2_17_x86_64.manylinux2014_x86_64.whl.metadata (12 kB)\n",
            "Collecting rustworkx>=0.15.0 (from qiskit)\n",
            "  Downloading rustworkx-0.16.0-cp39-abi3-manylinux_2_17_x86_64.manylinux2014_x86_64.whl.metadata (10 kB)\n",
            "Requirement already satisfied: numpy<3,>=1.17 in /usr/local/lib/python3.11/dist-packages (from qiskit) (2.0.2)\n",
            "Requirement already satisfied: scipy>=1.5 in /usr/local/lib/python3.11/dist-packages (from qiskit) (1.16.1)\n",
            "Requirement already satisfied: dill>=0.3 in /usr/local/lib/python3.11/dist-packages (from qiskit) (0.3.8)\n",
            "Collecting stevedore>=3.0.0 (from qiskit)\n",
            "  Downloading stevedore-5.4.1-py3-none-any.whl.metadata (2.3 kB)\n",
            "Requirement already satisfied: typing-extensions in /usr/local/lib/python3.11/dist-packages (from qiskit) (4.14.1)\n",
            "Collecting pbr>=2.0.0 (from stevedore>=3.0.0->qiskit)\n",
            "  Downloading pbr-6.1.1-py2.py3-none-any.whl.metadata (3.4 kB)\n",
            "Requirement already satisfied: setuptools in /usr/local/lib/python3.11/dist-packages (from pbr>=2.0.0->stevedore>=3.0.0->qiskit) (75.2.0)\n",
            "Downloading qiskit-2.1.1-cp39-abi3-manylinux_2_17_x86_64.manylinux2014_x86_64.whl (7.5 MB)\n",
            "\u001b[2K   \u001b[90m━━━━━━━━━━━━━━━━━━━━━━━━━━━━━━━━━━━━━━━━\u001b[0m \u001b[32m7.5/7.5 MB\u001b[0m \u001b[31m51.9 MB/s\u001b[0m eta \u001b[36m0:00:00\u001b[0m\n",
            "\u001b[?25hDownloading rustworkx-0.16.0-cp39-abi3-manylinux_2_17_x86_64.manylinux2014_x86_64.whl (2.1 MB)\n",
            "\u001b[2K   \u001b[90m━━━━━━━━━━━━━━━━━━━━━━━━━━━━━━━━━━━━━━━━\u001b[0m \u001b[32m2.1/2.1 MB\u001b[0m \u001b[31m70.7 MB/s\u001b[0m eta \u001b[36m0:00:00\u001b[0m\n",
            "\u001b[?25hDownloading stevedore-5.4.1-py3-none-any.whl (49 kB)\n",
            "\u001b[2K   \u001b[90m━━━━━━━━━━━━━━━━━━━━━━━━━━━━━━━━━━━━━━━━\u001b[0m \u001b[32m49.5/49.5 kB\u001b[0m \u001b[31m3.3 MB/s\u001b[0m eta \u001b[36m0:00:00\u001b[0m\n",
            "\u001b[?25hDownloading pbr-6.1.1-py2.py3-none-any.whl (108 kB)\n",
            "\u001b[2K   \u001b[90m━━━━━━━━━━━━━━━━━━━━━━━━━━━━━━━━━━━━━━━━\u001b[0m \u001b[32m109.0/109.0 kB\u001b[0m \u001b[31m8.4 MB/s\u001b[0m eta \u001b[36m0:00:00\u001b[0m\n",
            "\u001b[?25hInstalling collected packages: rustworkx, pbr, stevedore, qiskit\n",
            "Successfully installed pbr-6.1.1 qiskit-2.1.1 rustworkx-0.16.0 stevedore-5.4.1\n",
            "Requirement already satisfied: qiskit in /usr/local/lib/python3.11/dist-packages (2.1.1)\n",
            "Collecting qiskit-aer\n",
            "  Downloading qiskit_aer-0.17.1-cp311-cp311-manylinux_2_17_x86_64.manylinux2014_x86_64.whl.metadata (8.3 kB)\n",
            "Requirement already satisfied: rustworkx>=0.15.0 in /usr/local/lib/python3.11/dist-packages (from qiskit) (0.16.0)\n",
            "Requirement already satisfied: numpy<3,>=1.17 in /usr/local/lib/python3.11/dist-packages (from qiskit) (2.0.2)\n",
            "Requirement already satisfied: scipy>=1.5 in /usr/local/lib/python3.11/dist-packages (from qiskit) (1.16.1)\n",
            "Requirement already satisfied: dill>=0.3 in /usr/local/lib/python3.11/dist-packages (from qiskit) (0.3.8)\n",
            "Requirement already satisfied: stevedore>=3.0.0 in /usr/local/lib/python3.11/dist-packages (from qiskit) (5.4.1)\n",
            "Requirement already satisfied: typing-extensions in /usr/local/lib/python3.11/dist-packages (from qiskit) (4.14.1)\n",
            "Requirement already satisfied: psutil>=5 in /usr/local/lib/python3.11/dist-packages (from qiskit-aer) (5.9.5)\n",
            "Requirement already satisfied: python-dateutil>=2.8.0 in /usr/local/lib/python3.11/dist-packages (from qiskit-aer) (2.9.0.post0)\n",
            "Requirement already satisfied: six>=1.5 in /usr/local/lib/python3.11/dist-packages (from python-dateutil>=2.8.0->qiskit-aer) (1.17.0)\n",
            "Requirement already satisfied: pbr>=2.0.0 in /usr/local/lib/python3.11/dist-packages (from stevedore>=3.0.0->qiskit) (6.1.1)\n",
            "Requirement already satisfied: setuptools in /usr/local/lib/python3.11/dist-packages (from pbr>=2.0.0->stevedore>=3.0.0->qiskit) (75.2.0)\n",
            "Downloading qiskit_aer-0.17.1-cp311-cp311-manylinux_2_17_x86_64.manylinux2014_x86_64.whl (12.4 MB)\n",
            "\u001b[2K   \u001b[90m━━━━━━━━━━━━━━━━━━━━━━━━━━━━━━━━━━━━━━━━\u001b[0m \u001b[32m12.4/12.4 MB\u001b[0m \u001b[31m74.1 MB/s\u001b[0m eta \u001b[36m0:00:00\u001b[0m\n",
            "\u001b[?25hInstalling collected packages: qiskit-aer\n",
            "Successfully installed qiskit-aer-0.17.1\n",
            "Requirement already satisfied: qiskit[visualization] in /usr/local/lib/python3.11/dist-packages (2.1.1)\n",
            "Requirement already satisfied: rustworkx>=0.15.0 in /usr/local/lib/python3.11/dist-packages (from qiskit[visualization]) (0.16.0)\n",
            "Requirement already satisfied: numpy<3,>=1.17 in /usr/local/lib/python3.11/dist-packages (from qiskit[visualization]) (2.0.2)\n",
            "Requirement already satisfied: scipy>=1.5 in /usr/local/lib/python3.11/dist-packages (from qiskit[visualization]) (1.16.1)\n",
            "Requirement already satisfied: dill>=0.3 in /usr/local/lib/python3.11/dist-packages (from qiskit[visualization]) (0.3.8)\n",
            "Requirement already satisfied: stevedore>=3.0.0 in /usr/local/lib/python3.11/dist-packages (from qiskit[visualization]) (5.4.1)\n",
            "Requirement already satisfied: typing-extensions in /usr/local/lib/python3.11/dist-packages (from qiskit[visualization]) (4.14.1)\n",
            "Requirement already satisfied: matplotlib>=3.3 in /usr/local/lib/python3.11/dist-packages (from qiskit[visualization]) (3.10.0)\n",
            "Requirement already satisfied: pydot in /usr/local/lib/python3.11/dist-packages (from qiskit[visualization]) (3.0.4)\n",
            "Requirement already satisfied: Pillow>=4.2.1 in /usr/local/lib/python3.11/dist-packages (from qiskit[visualization]) (11.3.0)\n",
            "Collecting pylatexenc>=1.4 (from qiskit[visualization])\n",
            "  Downloading pylatexenc-2.10.tar.gz (162 kB)\n",
            "\u001b[2K     \u001b[90m━━━━━━━━━━━━━━━━━━━━━━━━━━━━━━━━━━━━━━━\u001b[0m \u001b[32m162.6/162.6 kB\u001b[0m \u001b[31m3.1 MB/s\u001b[0m eta \u001b[36m0:00:00\u001b[0m\n",
            "\u001b[?25h  Preparing metadata (setup.py) ... \u001b[?25l\u001b[?25hdone\n",
            "Requirement already satisfied: seaborn>=0.9.0 in /usr/local/lib/python3.11/dist-packages (from qiskit[visualization]) (0.13.2)\n",
            "Requirement already satisfied: sympy>=1.3 in /usr/local/lib/python3.11/dist-packages (from qiskit[visualization]) (1.13.1)\n",
            "Requirement already satisfied: contourpy>=1.0.1 in /usr/local/lib/python3.11/dist-packages (from matplotlib>=3.3->qiskit[visualization]) (1.3.3)\n",
            "Requirement already satisfied: cycler>=0.10 in /usr/local/lib/python3.11/dist-packages (from matplotlib>=3.3->qiskit[visualization]) (0.12.1)\n",
            "Requirement already satisfied: fonttools>=4.22.0 in /usr/local/lib/python3.11/dist-packages (from matplotlib>=3.3->qiskit[visualization]) (4.59.0)\n",
            "Requirement already satisfied: kiwisolver>=1.3.1 in /usr/local/lib/python3.11/dist-packages (from matplotlib>=3.3->qiskit[visualization]) (1.4.8)\n",
            "Requirement already satisfied: packaging>=20.0 in /usr/local/lib/python3.11/dist-packages (from matplotlib>=3.3->qiskit[visualization]) (25.0)\n",
            "Requirement already satisfied: pyparsing>=2.3.1 in /usr/local/lib/python3.11/dist-packages (from matplotlib>=3.3->qiskit[visualization]) (3.2.3)\n",
            "Requirement already satisfied: python-dateutil>=2.7 in /usr/local/lib/python3.11/dist-packages (from matplotlib>=3.3->qiskit[visualization]) (2.9.0.post0)\n",
            "Requirement already satisfied: pandas>=1.2 in /usr/local/lib/python3.11/dist-packages (from seaborn>=0.9.0->qiskit[visualization]) (2.2.2)\n",
            "Requirement already satisfied: pbr>=2.0.0 in /usr/local/lib/python3.11/dist-packages (from stevedore>=3.0.0->qiskit[visualization]) (6.1.1)\n",
            "Requirement already satisfied: mpmath<1.4,>=1.1.0 in /usr/local/lib/python3.11/dist-packages (from sympy>=1.3->qiskit[visualization]) (1.3.0)\n",
            "Requirement already satisfied: pytz>=2020.1 in /usr/local/lib/python3.11/dist-packages (from pandas>=1.2->seaborn>=0.9.0->qiskit[visualization]) (2025.2)\n",
            "Requirement already satisfied: tzdata>=2022.7 in /usr/local/lib/python3.11/dist-packages (from pandas>=1.2->seaborn>=0.9.0->qiskit[visualization]) (2025.2)\n",
            "Requirement already satisfied: setuptools in /usr/local/lib/python3.11/dist-packages (from pbr>=2.0.0->stevedore>=3.0.0->qiskit[visualization]) (75.2.0)\n",
            "Requirement already satisfied: six>=1.5 in /usr/local/lib/python3.11/dist-packages (from python-dateutil>=2.7->matplotlib>=3.3->qiskit[visualization]) (1.17.0)\n",
            "Building wheels for collected packages: pylatexenc\n",
            "  Building wheel for pylatexenc (setup.py) ... \u001b[?25l\u001b[?25hdone\n",
            "  Created wheel for pylatexenc: filename=pylatexenc-2.10-py3-none-any.whl size=136817 sha256=f1fa1feae5413c9ae4b2b1eaa840ec80e0aca576afd86fc3a3e150d9efdd8fde\n",
            "  Stored in directory: /root/.cache/pip/wheels/b1/7a/33/9fdd892f784ed4afda62b685ae3703adf4c91aa0f524c28f03\n",
            "Successfully built pylatexenc\n",
            "Installing collected packages: pylatexenc\n",
            "Successfully installed pylatexenc-2.10\n"
          ]
        }
      ],
      "source": [
        "#Installing the required libraries\n",
        "\n",
        "# Install Qiskit and upgrade to the latest version\n",
        "%pip install qiskit --upgrade\n",
        "\n",
        "# Install the Qiskit Aer library for simulation\n",
        "%pip install qiskit qiskit-aer --upgrade\n",
        "\n",
        "# Install Qiskit visualization tools\n",
        "%pip install qiskit[visualization] --upgrade"
      ]
    },
    {
      "cell_type": "markdown",
      "id": "86ab8879-3d17-4ae8-a967-ca5d0d5365f9",
      "metadata": {
        "id": "86ab8879-3d17-4ae8-a967-ca5d0d5365f9"
      },
      "source": [
        "### Second we need to check if we use the right versions of **Python** and **Qiskit**:\n",
        "make sure that you are using :\n",
        "\n",
        "**Python** version >= `3.1x` and **Qiskit** version >= `2.x` by runnig this cell:"
      ]
    },
    {
      "cell_type": "code",
      "execution_count": 2,
      "id": "35560eb1-be21-4746-8a84-8133dd2bfffa",
      "metadata": {
        "id": "35560eb1-be21-4746-8a84-8133dd2bfffa",
        "colab": {
          "base_uri": "https://localhost:8080/"
        },
        "outputId": "36b1a713-000d-4eb6-c988-db4709dc2533"
      },
      "outputs": [
        {
          "output_type": "stream",
          "name": "stdout",
          "text": [
            "Python version: 3.11.13 (main, Jun  4 2025, 08:57:29) [GCC 11.4.0]\n",
            "Qiskit version: 2.1.1\n"
          ]
        }
      ],
      "source": [
        "#Importing the libraries to check if you are using the right version, and using it later in the practical section in the notebook.\n",
        "import sys\n",
        "import qiskit\n",
        "import matplotlib\n",
        "print(\"Python version:\", sys.version) #printing the python version\n",
        "print(\"Qiskit version:\", qiskit.__version__) #printing the qiskit version"
      ]
    },
    {
      "cell_type": "markdown",
      "id": "17a6ae05-ddb7-464b-a94b-c686b02f46e1",
      "metadata": {
        "id": "17a6ae05-ddb7-464b-a94b-c686b02f46e1"
      },
      "source": [
        "`Great! if your Python and Qiskit versions match the requirements above, let's continue.`\n",
        "\n",
        "`If not, please run the first cell with the \"pip install\" command.`"
      ]
    },
    {
      "cell_type": "markdown",
      "id": "c41fc890-61cd-48f0-9439-1cf987102536",
      "metadata": {
        "id": "c41fc890-61cd-48f0-9439-1cf987102536"
      },
      "source": [
        "## Chapter 1 — Brief Introduction to Quantum Computing  \n",
        "### Sec1.1: Classical Bits vs Quantum Bits\n",
        "\n",
        "Before briefly introducing quantum computing, let’s first review the fundamental unit of classical computation — the **classical bit**.  \n",
        "A classical bit can exist in only one of two states: `0` or `1`, and this behavior is governed by the core principles of **classical physics**.\n",
        "\n",
        "In contrast, the fundamental unit in quantum computing is the **quantum bit (qubit)**, which stores **quantum information**.  \n",
        "Unlike classical bits, a qubit can be in the state $|0\\rangle$, the state $|1\\rangle$, or in a **superposition** of both states simultaneously.  \n",
        "These states are typically represented using **Dirac (ket) notation**, such as $|0\\rangle$ and $|1\\rangle$, and they follow the principles of **quantum mechanics**.\n",
        "\n",
        "Quantum mechanics is *“the study of physics at extremely small scales, and it reveals surprising fundamental nature principles.”* **[1]**\n",
        "\n",
        "Qubits also exhibit other unique and powerful properties, which we will explore in the upcoming sections.\n"
      ]
    },
    {
      "cell_type": "markdown",
      "id": "0ad35217-68be-4b81-ae32-9e04ee391aa6",
      "metadata": {
        "id": "0ad35217-68be-4b81-ae32-9e04ee391aa6"
      },
      "source": [
        "### Sec1.2: Superposition\n",
        "A qubit can place the quantum information it holds in **superposition**, which represents all the possible combinations of configurations of the qubit (adapted from **[1]**). This is one of the key advantages against classical bits.\n",
        "\n",
        "An simple analogy that makes you think correctly about superposition:\n",
        "Suppose that you have a coin and encode it like this — Head (state $|0\\rangle$), and Tail (state $|1\\rangle$) — and you throw it in the sky.\n",
        "\n",
        "The superposition is when it's in the air: it can be either Head ($|0\\rangle$), or Tail ($|1\\rangle$), or both — which is the superposition — until we measure it (here: when it drops into your hand), and you get either Head ($|0\\rangle$) or Tail ($|1\\rangle$).\n",
        "\n",
        "So, its superposition state collapses into one state when measuring.(adapted from **[1]**)\n",
        "\n",
        "Mathematicallly expressed as:\n",
        "\n",
        "$|\\psi\\rangle = \\alpha|0\\rangle + \\beta|1\\rangle$.\n",
        "###### Where is:\n",
        "\n",
        "$|\\psi\\rangle$: the wavefunction.\n",
        "\n",
        "$\\alpha$: the magnitude of the $|0\\rangle$ state.\n",
        "\n",
        "\n",
        "$\\beta$: the magnitude of the $|1\\rangle$ state.\n",
        "\n",
        "I won’t delve into the mathematical details here, as this is not a mathematics-focused notebook.\n",
        "However, the underlying ideas are intuitive and accessible."
      ]
    },
    {
      "cell_type": "markdown",
      "id": "c0b96a9b-900e-49bb-b047-e2d104bb87f8",
      "metadata": {
        "id": "c0b96a9b-900e-49bb-b047-e2d104bb87f8"
      },
      "source": [
        "### Sec1.3: Entanglement\n",
        "This is one of the most important abilities of qubits.\n",
        "\n",
        "When entangled qubits are measured, their states are correlated. If one qubit is measured to be in a specific state (e.g., |0⟩), the other qubit will be in a corresponding state (e.g., |0⟩ as well if the entangled state is a Bell state). They do not need to be in the same state, which will make an entangled system for us.(adapted from **[1]**)\n",
        "\n",
        "When one part (entangled qubit) of the entangled system is measured to determine its state,\n",
        "we can know the other part’s (entangled qubit's) state from that measured entangled qubit. (adapted from **[1]**)\n"
      ]
    },
    {
      "cell_type": "markdown",
      "id": "1f102b66-8add-4566-a2d5-e0d955264735",
      "metadata": {
        "id": "1f102b66-8add-4566-a2d5-e0d955264735"
      },
      "source": [
        "## Chapter 2 — Quantum Gates\n",
        "\n",
        "First, we need to import the required libraries and begin exploring quantum gates from both theoretical and practical perspectives.\n",
        "\n",
        "**Note**: Some of the code examples are adapted from [2] to demonstrate multiple quantum gates using a single quantum circuit."
      ]
    },
    {
      "cell_type": "code",
      "execution_count": 3,
      "id": "45a2cc08-905a-4315-b2bb-5c88114d9c1c",
      "metadata": {
        "id": "45a2cc08-905a-4315-b2bb-5c88114d9c1c",
        "colab": {
          "base_uri": "https://localhost:8080/",
          "height": 191
        },
        "outputId": "410f684a-ede6-4818-d440-2914ed0c738f"
      },
      "outputs": [
        {
          "output_type": "execute_result",
          "data": {
            "text/plain": [
              "<Figure size 161.878x200.667 with 1 Axes>"
            ],
            "image/png": "[encoded data removed]"
          },
          "metadata": {},
          "execution_count": 3
        }
      ],
      "source": [
        "#Importing Required libraries\n",
        "from qiskit import QuantumCircuit\n",
        "from qiskit_aer import AerSimulator\n",
        "from qiskit import transpile\n",
        "from qiskit.visualization import plot_histogram\n",
        "\n",
        "\n",
        "#We give the name qu_circuit(shortcut for quantum circuit) for our quantum circuit.\n",
        "#Important note:  It doesn't matter the name of the circuit this is only for make it clear for you.\n",
        "\n",
        "#Here creating a two qubit quantum circuit\n",
        "qu_circuit = QuantumCircuit(2)\n",
        "\n",
        "#Draw the circuit\n",
        "qu_circuit.draw('mpl')"
      ]
    },
    {
      "cell_type": "markdown",
      "id": "2bdbedea-9ca1-4b24-84dc-08f77baafcf2",
      "metadata": {
        "id": "2bdbedea-9ca1-4b24-84dc-08f77baafcf2"
      },
      "source": [
        "### Sec2.1: $X$ Gate\n",
        "Our first gate to discuss on this notebook.\n",
        "\n",
        "The **$X$ (NOT) gate** is a single-qubit gate when applied to a qubit it will flip it's state.\n",
        "\n",
        "When you apply $X$ gate to $|0\\rangle$ the result is: $|1\\rangle$. (adapted from **[2]**)\n",
        "\n",
        "When you apply $X$ gate on $|1\\rangle$ the result is: $|0\\rangle$. (adapted from **[2]**)\n",
        "\n",
        "So the operation is similiar to the classical NOT gate which is known as the bit flip. (adapted from **[2]**)."
      ]
    },
    {
      "cell_type": "code",
      "execution_count": 4,
      "id": "b0ed6c71-9793-4d92-bdb9-2ad0dca7e08c",
      "metadata": {
        "id": "b0ed6c71-9793-4d92-bdb9-2ad0dca7e08c",
        "colab": {
          "base_uri": "https://localhost:8080/",
          "height": 127
        },
        "outputId": "30446d09-3acc-4f3e-9810-8c773a4d542d"
      },
      "outputs": [
        {
          "output_type": "execute_result",
          "data": {
            "text/plain": [
              "<Figure size 185.453x117.056 with 1 Axes>"
            ],
            "image/png": "[encoded data removed]"
          },
          "metadata": {},
          "execution_count": 4
        }
      ],
      "source": [
        "#Here is the Python code of applying X gate\n",
        "\n",
        "#First Create our single qubit Quantum Circuit\n",
        "qu_circuit = QuantumCircuit(1)\n",
        "\n",
        "#Apply X gate on qubit one(indexed as 0) → flip the state from |0⟩ to |1⟩\n",
        "qu_circuit.x(0)\n",
        "\n",
        "#Draw the circuit\n",
        "qu_circuit.draw('mpl')"
      ]
    },
    {
      "cell_type": "markdown",
      "id": "148679e4-0b73-4196-a387-d35fb6e262a4",
      "metadata": {
        "id": "148679e4-0b73-4196-a387-d35fb6e262a4"
      },
      "source": [
        "\"In IBM Quantum, the initial state is set to $|0\\rangle$\". **[2]**\n",
        "##### What happened above?\n",
        "\n",
        "What happend above is our qubit is initilized in state $|0\\rangle$ by  defualt, and we applied X gate on it, so it's state flipped to state $|1\\rangle$."
      ]
    },
    {
      "cell_type": "markdown",
      "id": "9583f031-4a03-4151-a711-9f6b24b85e37",
      "metadata": {
        "id": "9583f031-4a03-4151-a711-9f6b24b85e37"
      },
      "source": [
        "### Sec2.2: Hadamard Gate\n",
        "The hadamard (H) gate is a single-qubit gate that applies superposition state on the qubit that it is applied to.\n",
        "\n",
        "When applying H gate to state $|0\\rangle$ it creates a superposition state between state $|0\\rangle$ and state $|1\\rangle$, mathematically expressed as: $H|0\\rangle = \\frac{|0\\rangle + |1\\rangle}{\\sqrt{2}}. \\quad$ (adapted from **[2]**)\n",
        "\n",
        "When applying H gate to state $|1\\rangle$ it creates a superposition state between state $|0\\rangle$ and state $|1\\rangle$, mathematically expressed as:\n",
        "$H|1\\rangle = \\frac{|0\\rangle - |1\\rangle}{\\sqrt{2}}$. (adapted from **[2]**)"
      ]
    },
    {
      "cell_type": "code",
      "execution_count": 5,
      "id": "e6d7f5af-93d9-4495-b7bd-90febe46fc4f",
      "metadata": {
        "id": "e6d7f5af-93d9-4495-b7bd-90febe46fc4f",
        "colab": {
          "base_uri": "https://localhost:8080/",
          "height": 127
        },
        "outputId": "6043a6e1-a83c-41df-d908-bc188d7b4d55"
      },
      "outputs": [
        {
          "output_type": "execute_result",
          "data": {
            "text/plain": [
              "<Figure size 185.453x117.056 with 1 Axes>"
            ],
            "image/png": "[encoded data removed]"
          },
          "metadata": {},
          "execution_count": 5
        }
      ],
      "source": [
        "#Here is the python code of applying H gate\n",
        "\n",
        "#First Create our single qubit Quantum Circuit\n",
        "qu_circuit = QuantumCircuit(1)\n",
        "\n",
        "#Apply Hadamard gate on qubit one(indexed here as (0)) → creates superposition\n",
        "qu_circuit.h(0)\n",
        "\n",
        "#Draw the circuit\n",
        "qu_circuit.draw('mpl')"
      ]
    },
    {
      "cell_type": "markdown",
      "id": "d18098ad-41f8-4709-b6b4-ab88fdbc4bb6",
      "metadata": {
        "id": "d18098ad-41f8-4709-b6b4-ab88fdbc4bb6"
      },
      "source": [
        "##### What happened above?\n",
        "\n",
        "What happened above is that our qubit is initialized in the state $|0\\rangle$ by default, and we applied the Hadamard gate (H) to it.\n",
        "This creates a superposition of both states $|0\\rangle$ and $|1\\rangle$ at the same time.\n",
        "Mathematically, this is expressed (from **[2]**) as: $H|0\\rangle = \\frac{|0\\rangle + |1\\rangle}{\\sqrt{2}}. \\quad$\n"
      ]
    },
    {
      "cell_type": "markdown",
      "id": "4cd1d4cb-d6de-45b0-b857-7ff0bdac6141",
      "metadata": {
        "id": "4cd1d4cb-d6de-45b0-b857-7ff0bdac6141"
      },
      "source": [
        "<div class=\"alert alert-block alert-success\">\n",
        "<b>Ex1: Translating the mathematical expression into a quantum circuit</b><br><br>\n",
        "\n",
        "<b>What to do?</b>  \n",
        "You need to translate the mathematical expression\n",
        "\"$H|1\\rangle = \\frac{|0\\rangle - |1\\rangle}{\\sqrt{2}}$\" into a quantum circuit.\n",
        "</div>\n",
        "\n",
        "<div class=\"alert alert-info\">\n",
        "<details>\n",
        "    <summary><b>Find Hint with Two Questions here</b> (Click to expand)</summary>\n",
        "\n",
        "<ul>\n",
        "<li>Do you remember what we talked about earlier in the X gate section?</li>\n",
        "<li>Do you remember what the Hadamard gate does when applied to the states \"$|0\\rangle$\" and \"$|1\\rangle$\"?  \n",
        "What do we get as a result?</li>\n",
        "</ul>\n",
        "\n",
        "</details>\n",
        "</div>"
      ]
    },
    {
      "cell_type": "code",
      "execution_count": 6,
      "id": "c5fea98c-2ea6-42d5-b1a8-4f38db060f2c",
      "metadata": {
        "id": "c5fea98c-2ea6-42d5-b1a8-4f38db060f2c",
        "colab": {
          "base_uri": "https://localhost:8080/",
          "height": 127
        },
        "outputId": "d14b6319-7719-4e12-ede9-5148878bf282"
      },
      "outputs": [
        {
          "output_type": "execute_result",
          "data": {
            "text/plain": [
              "<Figure size 143.647x117.056 with 1 Axes>"
            ],
            "image/png": "[encoded data removed]"
          },
          "metadata": {},
          "execution_count": 6
        }
      ],
      "source": [
        "#Here creating our single qubit quantum circuit\n",
        "qu_circuit = QuantumCircuit(1)\n",
        "\n",
        "#Another hint: apply the two gates sequentially to the qubit\n",
        "\n",
        "\n",
        "\n",
        "#draw the circuit\n",
        "qu_circuit.draw('mpl')"
      ]
    },
    {
      "cell_type": "markdown",
      "id": "409ac5e9-3b18-4213-bc4b-e66bed5771c6",
      "metadata": {
        "id": "409ac5e9-3b18-4213-bc4b-e66bed5771c6"
      },
      "source": [
        "<div class=\"alert alert-info\">\n",
        "<details>\n",
        "    <summary><b>Your answer must be like this:</b> (Click to expand)</summary>\n",
        "\n",
        "<pre>\n",
        "# Here creating our single qubit quantum circuit\n",
        "qu_circuit = QuantumCircuit(1)\n",
        "\n",
        "# Another hint: apply the two gates sequentially to the qubit\n",
        "\n",
        "# Apply X gate to flip the state from |0⟩ to |1⟩\n",
        "qu_circuit.x(0)\n",
        "\n",
        "# Apply Hadamard gate → creates superposition(H|1⟩ = (|0⟩ - |1⟩)/√2):\n",
        "qu_circuit.h(0)\n",
        "\n",
        "#Draw the circuit\n",
        "qu_circuit.draw('mpl')\n",
        "</pre>\n",
        "\n",
        "</details>\n",
        "</div>"
      ]
    },
    {
      "cell_type": "markdown",
      "id": "da7e4331-d63a-438a-834b-92008304a9e9",
      "metadata": {
        "id": "da7e4331-d63a-438a-834b-92008304a9e9"
      },
      "source": [
        "### Sec2.3: CNOT Gate\n",
        "\"A CNOT(\"Controlled NOT\" or CX) gate is a two-qubit gate, meaning its action involves two qubits at once: the control qubit and the target qubit\". **[2]**\n",
        "\n",
        "A CNOT flips(Apply the X(NOT) gate to) the target qubit only if the control qubit is state is $|1\\rangle$.(adapted from **[2]**)"
      ]
    },
    {
      "cell_type": "code",
      "execution_count": 7,
      "id": "1c237d77-81c3-4d1e-829a-20070756fa98",
      "metadata": {
        "id": "1c237d77-81c3-4d1e-829a-20070756fa98",
        "colab": {
          "base_uri": "https://localhost:8080/",
          "height": 191
        },
        "outputId": "4ce64300-c1a3-4319-f329-039857d71636"
      },
      "outputs": [
        {
          "output_type": "execute_result",
          "data": {
            "text/plain": [
              "<Figure size 203.683x200.667 with 1 Axes>"
            ],
            "image/png": "[encoded data removed]"
          },
          "metadata": {},
          "execution_count": 7
        }
      ],
      "source": [
        "#Here is the Python code of applying CNOT gate\n",
        "\n",
        "#First Create our two qubit Quantum Circuit\n",
        "qu_circuit = QuantumCircuit(2)\n",
        "\n",
        "#Apply CNOT gate → (Control qubit, target qubit)\n",
        "qu_circuit.cx(0,1)\n",
        "\n",
        "#Draw the circuit\n",
        "qu_circuit.draw('mpl')"
      ]
    },
    {
      "cell_type": "markdown",
      "id": "5d013231-c6b7-42c7-9367-d6ed77f90965",
      "metadata": {
        "id": "5d013231-c6b7-42c7-9367-d6ed77f90965"
      },
      "source": [
        "##### What happened above?\n",
        "\n",
        "What happened above is that we applied a CNOT gate where:\n",
        "\n",
        "* Qubit 1 (q0) is the control qubit.\n",
        "\n",
        "* Qubit 2 (q1) is the target qubit.\n",
        "\n",
        "Since both qubits are initialized in state $|0\\rangle$ by default,\n",
        "and the control qubit is in $|0\\rangle$, the CNOT gate does nothing.\n",
        "\n",
        "That’s because the CNOT gate only flips the target qubit if the control qubit is in state $|1\\rangle$.\n",
        "In this case, the control is in $|0\\rangle$, so no flip happens.\n",
        "\n",
        "The final state of the system remains: $|00\\rangle$\n",
        "\n",
        "Before going any further, let's measure some of the earlier quantum circuits we have built:"
      ]
    },
    {
      "cell_type": "code",
      "execution_count": 8,
      "id": "1a1cc6a0-a646-4aa9-8ab4-03de64495667",
      "metadata": {
        "id": "1a1cc6a0-a646-4aa9-8ab4-03de64495667",
        "colab": {
          "base_uri": "https://localhost:8080/",
          "height": 191
        },
        "outputId": "648abc96-977c-478a-87c7-9a585d11138e"
      },
      "outputs": [
        {
          "output_type": "execute_result",
          "data": {
            "text/plain": [
              "<Figure size 269.064x200.667 with 1 Axes>"
            ],
            "image/png": "[encoded data removed]"
          },
          "metadata": {},
          "execution_count": 8
        }
      ],
      "source": [
        "#First Create our single qubit Quantum Circuit and  one classical bit (cbit) to store the result of the measurement\n",
        "qu_circuit = QuantumCircuit(1,1)\n",
        "\n",
        "# Apply the X gate on qubit 1 (indexed as 0) → flips from |0⟩ to |1⟩\n",
        "qu_circuit.x(0)\n",
        "\n",
        "# Measure qubit 1 (indexed as 0) and store it in classical bit 1 (indexed as 0)\n",
        "qu_circuit.measure(0, 0)\n",
        "\n",
        "#Draw the circuit\n",
        "qu_circuit.draw('mpl')"
      ]
    },
    {
      "cell_type": "markdown",
      "id": "745328cd-d7aa-4af0-b45c-04d9d1b1607d",
      "metadata": {
        "id": "745328cd-d7aa-4af0-b45c-04d9d1b1607d"
      },
      "source": [
        "##### What happened above?\n",
        "\n",
        "The qubit was initially in the state $|0\\rangle$.\n",
        "\n",
        "After applying the X gate, the state flipped from $|0\\rangle$ to $|1\\rangle$.\n",
        "\n",
        "Upon measurement, we always get 1 as the output, because the qubit is now in a definite state of $|1\\rangle$.\n",
        "\n",
        "Now, let's measure the eariler Hadamard example quantum circuit:"
      ]
    },
    {
      "cell_type": "code",
      "execution_count": 9,
      "id": "975b7b9a-355f-405d-8fd5-2856f84047f6",
      "metadata": {
        "id": "975b7b9a-355f-405d-8fd5-2856f84047f6",
        "colab": {
          "base_uri": "https://localhost:8080/",
          "height": 191
        },
        "outputId": "33a15abe-68ca-4736-f905-b4e8b32e73bb"
      },
      "outputs": [
        {
          "output_type": "execute_result",
          "data": {
            "text/plain": [
              "<Figure size 269.064x200.667 with 1 Axes>"
            ],
            "image/png": "[encoded data removed]"
          },
          "metadata": {},
          "execution_count": 9
        }
      ],
      "source": [
        "#First Create our single qubit Quantum Circuit and  1 classical bit (cbit) to store the result of the measurement\n",
        "qu_circuit = QuantumCircuit(1,1)\n",
        "\n",
        "#Apply Hadamard gate on qubit one(indexed here as 0) → creates superposition\n",
        "qu_circuit.h(0)\n",
        "\n",
        "#Measure qubit 1 (indexed as 0) and store it in classical bit 1 (indexed as 0)\n",
        "qu_circuit.measure(0, 0)\n",
        "\n",
        "#Draw the circuit\n",
        "qu_circuit.draw('mpl')"
      ]
    },
    {
      "cell_type": "markdown",
      "id": "b357b284-fcf8-4a00-91dc-762ea5b6471c",
      "metadata": {
        "id": "b357b284-fcf8-4a00-91dc-762ea5b6471c"
      },
      "source": [
        "##### What happend above?\n",
        "\n",
        "After applying the Hadamard gate to a qubit initially in state $|0\\rangle$, the qubit is placed in a superposition between $|0\\rangle$ and $|1\\rangle$, mathematically expressed (from **[2]**) as:\n",
        "\n",
        "$H|0\\rangle = \\frac{|0\\rangle + |1\\rangle}{\\sqrt{2}}. \\quad$\n",
        "\n",
        "This means the qubit is in both states at the same time, each with equal probability (50%).\n",
        "\n",
        "However, once measured, the superposition collapses into a single state:\n",
        "\n",
        "50% chance of getting $|0\\rangle$\n",
        "\n",
        "50% chance of getting $|1\\rangle$\n",
        "\n"
      ]
    },
    {
      "cell_type": "markdown",
      "id": "e8d7701c-151c-4e3d-a022-384cc08b3f16",
      "metadata": {
        "id": "e8d7701c-151c-4e3d-a022-384cc08b3f16"
      },
      "source": [
        "<div class=\"alert alert-block alert-success\">\n",
        "<b>Ex2: Try to measure a two-qubit quantum circuit by yourself!</b><br><br>\n",
        "\n",
        "<b>What to do?</b>  \n",
        "You need to apply an X gate to qubit 1, then apply a CNOT gate to the circuit,  \n",
        "where qubit 1 is the control qubit and qubit 2 is the target qubit.  \n",
        "Finally, measure the two qubits to explore what results you get.\n",
        "</div>"
      ]
    },
    {
      "cell_type": "code",
      "execution_count": 10,
      "id": "3cb21651-436a-478e-96e5-6f220c77d8c8",
      "metadata": {
        "id": "3cb21651-436a-478e-96e5-6f220c77d8c8",
        "colab": {
          "base_uri": "https://localhost:8080/",
          "height": 255
        },
        "outputId": "0401c23e-a27c-4b77-cf18-a2fc6d4cfe69"
      },
      "outputs": [
        {
          "output_type": "execute_result",
          "data": {
            "text/plain": [
              "<Figure size 203.683x284.278 with 1 Axes>"
            ],
            "image/png": "[encoded data removed]"
          },
          "metadata": {},
          "execution_count": 10
        }
      ],
      "source": [
        "#First Create our two qubits Quantum Circuit and  2 classical bits (cbits) to store the result of the measurements\n",
        "qu_circuit = QuantumCircuit(2,2)\n",
        "\n",
        "#Here write your code\n",
        "\n",
        "\n",
        "#Here measure your circuit\n",
        "\n",
        "qu_circuit.measure(0, 0) #Don't forget when measuring a qubits you need to use a classical bits to store the informations\n",
        "\n",
        "                                 #Measure qubit 2 and store it on classical bit two\n",
        "\n",
        "#Draw the circuit\n",
        "qu_circuit.draw('mpl')"
      ]
    },
    {
      "cell_type": "markdown",
      "id": "29aa79cd-d008-4d89-8d97-6d79726f9020",
      "metadata": {
        "id": "29aa79cd-d008-4d89-8d97-6d79726f9020"
      },
      "source": [
        "<div class=\"alert alert-info\">\n",
        "<details>\n",
        "    <summary><b>Your answer must be like this:</b> (Click to expand)</summary>\n",
        "\n",
        "<pre>\n",
        "#First Create our two qubits Quantum Circuit and  2 classical bits (cbits) to store the result of the measurements\n",
        "qu_circuit = QuantumCircuit(2,2)\n",
        "\n",
        "#Here write your code\n",
        "qu_circuit.x(0)      # Apply the X gate on qubit 1 (indexed as 0) → flips from |0⟩ to |1⟩\n",
        "\n",
        "\n",
        "qu_circuit.cx(0, 1)  #Apply CNOT gate → (Control qubit, target qubit)\n",
        "\n",
        "#Here measure your circuit\n",
        "\n",
        "qu_circuit.measure(0, 0) #Don't forget when measuring a qubits you need to use a classical bits to store the informations\n",
        "\n",
        "qu_circuit(1, 1)  #Measure qubit 2 and store it on classical bit two\n",
        "\n",
        "#Draw the circuit\n",
        "qu_circuit.draw('mpl')\n",
        "</pre>\n",
        "\n",
        "</details>\n",
        "</div>"
      ]
    },
    {
      "cell_type": "markdown",
      "id": "892fa184-ea7e-4d52-993a-00b7c5869463",
      "metadata": {
        "id": "892fa184-ea7e-4d52-993a-00b7c5869463"
      },
      "source": [
        "##### What happend here?\n",
        "After applying the X gate to qubit 1 (q0), its state becomes $|1\\rangle$, while qubit 2 (q1) remains in $|0\\rangle$, forming the state $|01\\rangle$.\n",
        "\n",
        "Next, we apply a CNOT gate with qubit 1 (q0) as the control and qubit 2 (q1) as the target.  \n",
        "Since the control qubit is in state $|1\\rangle$, the CNOT flips the target qubit from $|0\\rangle$ to $|1\\rangle$.\n",
        "\n",
        "Now the system becomes $|11\\rangle$.\n",
        "\n",
        "So when we measure both qubits, we **always** get the output: $|11\\rangle$\n"
      ]
    },
    {
      "cell_type": "markdown",
      "id": "91d03806-aacb-4aab-b41b-bebf51b51a4d",
      "metadata": {
        "id": "91d03806-aacb-4aab-b41b-bebf51b51a4d"
      },
      "source": [
        "## Chapter 3 — Building Your First Quantum Circuit Using Qiskit from Scratch\n",
        "\n",
        "Before building your first quantum circuit, let's briefly introduce two important concepts:\n",
        "\n",
        "### Sec 3.1: Aer Simulator  \n",
        "The Aer Simulator (from the Qiskit library) is a tool that allows us to **simulate quantum circuits on classical computers**.  \n",
        "It helps us **observe and visualize the results** of our quantum circuits before running them on real quantum hardware.\n",
        "\n",
        "\n",
        "Now, let's run the eariler Hadamard gate example using Aer simulator.  \n",
        "\n",
        "**Note**: The Aer simulator code used here is adapted from reference **[2]**."
      ]
    },
    {
      "cell_type": "code",
      "execution_count": 11,
      "id": "2277db6d-5286-4a5f-81fe-8c8954be3566",
      "metadata": {
        "id": "2277db6d-5286-4a5f-81fe-8c8954be3566",
        "colab": {
          "base_uri": "https://localhost:8080/",
          "height": 191
        },
        "outputId": "0cdc86a2-0444-403e-c003-132efbeb93b7"
      },
      "outputs": [
        {
          "output_type": "execute_result",
          "data": {
            "text/plain": [
              "<Figure size 269.064x200.667 with 1 Axes>"
            ],
            "image/png": "[encoded data removed]"
          },
          "metadata": {},
          "execution_count": 11
        }
      ],
      "source": [
        "#First Create our single qubit Quantum Circuit and  1 classical bit (cbit) to store the result of the measurement\n",
        "qu_circuit = QuantumCircuit(1,1)\n",
        "\n",
        "#Apply Hadamard gate on qubit one(indexed here as 0) → creates superposition\n",
        "qu_circuit.h(0)\n",
        "\n",
        "#Measure qubit 1 (indexed as 0) and store  the result in classical bit 1 (indexed as 0)\n",
        "qu_circuit.measure(0, 0)\n",
        "\n",
        "#Draw the circuit\n",
        "qu_circuit.draw('mpl')"
      ]
    },
    {
      "cell_type": "code",
      "execution_count": 12,
      "id": "be881db6-6842-4a49-ba01-948e7456250e",
      "metadata": {
        "id": "be881db6-6842-4a49-ba01-948e7456250e",
        "colab": {
          "base_uri": "https://localhost:8080/",
          "height": 505
        },
        "outputId": "68eb6090-1a22-4348-ef8b-badf381b9087"
      },
      "outputs": [
        {
          "output_type": "stream",
          "name": "stdout",
          "text": [
            "{'1': 526, '0': 474}\n"
          ]
        },
        {
          "output_type": "execute_result",
          "data": {
            "text/plain": [
              "<Figure size 640x480 with 1 Axes>"
            ],
            "image/png": "[encoded data removed]"
          },
          "metadata": {},
          "execution_count": 12
        }
      ],
      "source": [
        "#Run our quantum circuit above using Aer simulator\n",
        "simulator = AerSimulator() #Building Aer Simulator\n",
        "\n",
        "#Preparing the quantum circuit (using \"transpile\") to run on the Aer simulator\n",
        "transpiled_circuit = transpile(qu_circuit, simulator) # transpile(our circuit, simulator that we build above)\n",
        "\n",
        "#Run the simulator\n",
        "result = simulator.run(transpiled_circuit,shots=1000).result() #we here run the circuit 1000 times (shots) and get the result\n",
        "\n",
        "#get counts\n",
        "counts = result.get_counts()\n",
        "\n",
        "print(counts) #printing the counts\n",
        "\n",
        "#Draw the Histogram\n",
        "plot_histogram(counts)"
      ]
    },
    {
      "cell_type": "markdown",
      "id": "58f5cb6f-abfe-409a-a0ca-7e137b16a039",
      "metadata": {
        "id": "58f5cb6f-abfe-409a-a0ca-7e137b16a039"
      },
      "source": [
        "##### What happened here?\n",
        "After applying the Hadamard gate to qubit 1, it goes from the state ∣0⟩ to a superposition:\n",
        "\n",
        "$H|0\\rangle = \\frac{|0\\rangle + |1\\rangle}{\\sqrt{2}}.$\n",
        "\n",
        "This means there's a 50% chance of measuring $|0\\rangle$ and a 50% chance of measuring $|1\\rangle$.\n",
        "\n",
        "When we measure the qubit, the superposition collapses, and we get either $|0\\rangle$ or $|1\\rangle$.\n",
        "\n",
        "Since we run the circuit 1000 times (shots=1000), we get approximately:\n",
        "\n",
        "{'0': ~500, '1': ~500}\n",
        "\n",
        "So the histogram shows a balanced distribution between 0 and 1."
      ]
    },
    {
      "cell_type": "markdown",
      "id": "0df7a298-5ea3-48c1-aa04-2e674b3977c3",
      "metadata": {
        "id": "0df7a298-5ea3-48c1-aa04-2e674b3977c3"
      },
      "source": [
        "### Sec3.2: Bell State\n",
        "\"In quantum information theory, a Bell state is specific quantum state of two qubits that represents the simplest and most studied example of quantum entanglement.\"**[3]**  \n",
        "Mathematically expressed as:\n",
        "\n",
        "$|\\Phi^+\\rangle = \\frac{|00\\rangle + |11\\rangle}{\\sqrt{2}}$. from **[3]**"
      ]
    },
    {
      "cell_type": "markdown",
      "id": "46e79767-13ed-4cd7-a876-24992001ff06",
      "metadata": {
        "id": "46e79767-13ed-4cd7-a876-24992001ff06"
      },
      "source": [
        "<div class=\"alert alert-block alert-success\">\n",
        "<b>Ex3: Build Your First Quantum Circuit Using Qiskit from Scratch!</b><br><br>\n",
        "\n",
        "<b>Brief Explanations:</b><br>\n",
        "\n",
        "<ul>\n",
        "<li>First, you need to create a quantum circuit with <b>two qubits</b> and <b>two classical bits</b> to store the measurement results.<br>\n",
        "It's important to name your quantum circuit <code>bell_circuit</code>.</li><br>\n",
        "\n",
        "<li>Second, apply a <b>Hadamard gate</b> to qubit 0 (<code>q0</code>).</li><br>\n",
        "\n",
        "<li>Third, apply a <b>CNOT gate</b> with qubit 1 (<code>q0</code>) as the control and qubit 2 (<code>q1</code>) as the target.</li><br>\n",
        "\n",
        "<li>Optionally, you can measure both qubits and Draw the circuit.</li>\n",
        "</ul>\n",
        "\n",
        "<b>What to do?</b><br>\n",
        "Now it's your turn to build your first quantum circuit from scratch.  \n",
        "Good luck!\n",
        "</div>"
      ]
    },
    {
      "cell_type": "code",
      "execution_count": null,
      "id": "96a4d1b8-c2d8-49af-aee1-5ac138957413",
      "metadata": {
        "id": "96a4d1b8-c2d8-49af-aee1-5ac138957413"
      },
      "outputs": [],
      "source": [
        "#Build your quantum circuit here:\n",
        "\n",
        "\n"
      ]
    },
    {
      "cell_type": "markdown",
      "id": "7cc15f3c-90bd-479a-b9bf-cf9a6d9661ab",
      "metadata": {
        "id": "7cc15f3c-90bd-479a-b9bf-cf9a6d9661ab"
      },
      "source": [
        "<div class=\"alert alert-info\">\n",
        "<details>\n",
        "    <summary><b>Your answer must be like this:</b> (Click to expand)</summary>\n",
        "\n",
        "<pre>\n",
        "# First, creating our two qubit quantum circuit, with two classical bits to store the results of the measurements\n",
        "bell_circuit = QuantumCircuit(2,2)\n",
        "\n",
        "#Apply Hadamard gate on qubit one(indexed here as 0) → creates superposition\n",
        "bell_circuit.h(0)\n",
        "\n",
        "#Apply CNOT gate → (Control qubit, target qubit) → make the qubits entangled\n",
        "bell_circuit.cx(0,1)\n",
        "\n",
        "#Optional: Measurements and Drawing\n",
        "\n",
        "#Measure the qubits\n",
        "bell_circuit.measure(0,0) #Measure qubit 1 (indexed as 0) and store the result in classical bit 1 (indexed as 0)\n",
        "bell_circuit.measure(1,1) #Measure qubit 2 (indexed as 1) and store the result in classical bit 2 (indexed as 1)\n",
        "\n",
        "#Draw the circuit\n",
        "bell_circuit.draw('mpl')\n",
        "</pre>\n",
        "\n",
        "</details>\n",
        "</div>"
      ]
    },
    {
      "cell_type": "code",
      "execution_count": null,
      "id": "c7201090-ac2f-4a8b-b415-9f834b20b61a",
      "metadata": {
        "id": "c7201090-ac2f-4a8b-b415-9f834b20b61a"
      },
      "outputs": [],
      "source": [
        "#Run our quantum circuit above using Aer simulator\n",
        "simulator = AerSimulator() #Building Aer Simulator\n",
        "\n",
        "#Preparing the quantum circuit (using \"transpile\") to run on the Aer simulator\n",
        "transpiled_circuit = transpile(bell_circuit, simulator) # transpile(our circuit, simulator that we build above)\n",
        "\n",
        "#Run the simulator\n",
        "result = simulator.run(transpiled_circuit,shots=1000).result() #we here run the circuit 1000 times (shots) and get the result\n",
        "\n",
        "#get counts\n",
        "counts = result.get_counts()\n",
        "\n",
        "print(counts) #printing the counts\n",
        "\n",
        "#Draw the Histogram\n",
        "plot_histogram(counts)"
      ]
    },
    {
      "cell_type": "markdown",
      "id": "f36033a2-95ce-4566-a2ed-8d487e938d6a",
      "metadata": {
        "id": "f36033a2-95ce-4566-a2ed-8d487e938d6a"
      },
      "source": [
        "#### What happend here?\n",
        "We built a Bell State circuit from scratch:\n",
        "\n",
        "We applied a Hadamard gate to qubit 1 (q0), placing it in a superposition:   \n",
        "$H|0\\rangle = \\frac{|0\\rangle + |1\\rangle}{\\sqrt{2}}$ (adapted from **[2]**)\n",
        "\n",
        "Then we applied a CNOT gate with qubit 1 (q0) as the control and qubit 2 (q1) as the target.   \n",
        "This entangled the two qubits and creates (bell state):   \n",
        "$|\\Phi^+\\rangle = \\frac{|00\\rangle + |11\\rangle}{\\sqrt{2}}$. (from **[3]**)\n",
        "\n",
        "When measuring both qubits over many times (shots), we expect to see either $|00\\rangle$ or $|11\\rangle$ with nearly equal probability.\n",
        "\n",
        "This means:\n",
        "\n",
        "If the first qubit is measured as $|0\\rangle$, the second will also be $|0\\rangle$.\n",
        "\n",
        "If the first qubit is $|1\\rangle$, the second will be $|1\\rangle$.\n",
        "\n",
        "These correlated outcomes are the signature of quantum entanglement.\n",
        "\n"
      ]
    },
    {
      "cell_type": "markdown",
      "id": "7cb404d7-a8d7-4c89-833f-9961b0cb03fe",
      "metadata": {
        "id": "7cb404d7-a8d7-4c89-833f-9961b0cb03fe"
      },
      "source": [
        "#### Congratulations!\n",
        "\n",
        "##### You’ve just built your very first quantum circuit from scratch!"
      ]
    },
    {
      "cell_type": "markdown",
      "id": "6baf37b6-9812-41f9-b181-c9da55797e25",
      "metadata": {
        "id": "6baf37b6-9812-41f9-b181-c9da55797e25"
      },
      "source": [
        "## Chapter4 — Wrapping Up\n",
        "\n",
        "In this notebook, you’ve taken your first steps into the world of quantum computing.  \n",
        "You learned both the **theory and practice** of core quantum concepts using Qiskit, including:\n",
        "\n",
        "- What quantum computing is and how it differs from classical computing  \n",
        "- How **qubits** can be in **superposition**  \n",
        "- What **entanglement** means and why it matters  \n",
        "- The role of **quantum gates** like X, H, and CNOT  \n",
        "- How to build circuits and simulate them using **AerSimulator**  \n",
        "- How to measure quantum states and interpret the results  \n",
        "- And finally... how to build your very first full quantum circuit: a **Bell State!** 🎉  \n",
        "\n",
        "---\n",
        "\n",
        "## Sec4.1: Useful Open-Source Resources:\n",
        "\n",
        "- [Introduction to Classical and Quantum Computing by Thomas Wong. -book](https://www.thomaswong.net/introduction-to-classical-and-quantum-computing-1e4p.pdf)\n",
        "- [IBM Quantum Learning Platform](https://quantum.cloud.ibm.com/learning/en)\n",
        "- [Qiskit Documentation](https://qiskit.org/documentation/)  \n",
        "- [IBM Quantum Lab](https://quantum-computing.ibm.com/)  \n",
        "- [Understanding Quantum Information and Computation by John Watrous - book](https://arxiv.org/abs/2507.11536)\n",
        "- [Qiskit Youtube channel](https://www.youtube.com/channel/UClBNq7mCMf5xm8baE_VMl3A)\n",
        "---\n",
        "\n",
        "## Sec4.2: References:\n",
        "\n",
        "[1] : https://www.ibm.com/think/topics/quantum-computing   \n",
        "[2] : https://quantum.cloud.ibm.com/learning/en/courses/utility-scale-quantum-computing/bits-gates-and-circuits   \n",
        "[3] : https://en.wikipedia.org/wiki/Bell_state   \n",
        "\n",
        "---\n",
        "\n",
        "\n"
      ]
    }
  ],
  "metadata": {
    "kernelspec": {
      "display_name": "Python 3 (ipykernel)",
      "language": "python",
      "name": "python3"
    },
    "language_info": {
      "codemirror_mode": {
        "name": "ipython",
        "version": 3
      },
      "file_extension": ".py",
      "mimetype": "text/x-python",
      "name": "python",
      "nbconvert_exporter": "python",
      "pygments_lexer": "ipython3",
      "version": "3.10.3"
    },
    "colab": {
      "provenance": []
    }
  },
  "nbformat": 4,
  "nbformat_minor": 5
}
